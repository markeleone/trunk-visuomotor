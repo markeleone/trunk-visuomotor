{
 "cells": [
  {
   "cell_type": "code",
   "execution_count": 1,
   "metadata": {},
   "outputs": [],
   "source": [
    "import os\n",
    "import pandas as pd\n",
    "import matplotlib.pyplot as plt\n",
    "from PIL import Image\n",
    "import csv\n",
    "import cv2\n",
    "import data_aug\n",
    "import importlib"
   ]
  },
  {
   "cell_type": "markdown",
   "metadata": {},
   "source": [
    "Run with trunk kernel"
   ]
  },
  {
   "cell_type": "markdown",
   "metadata": {},
   "source": [
    "Trim dataset for single image set to one x3, y3, z3 set per image"
   ]
  },
  {
   "cell_type": "code",
   "execution_count": 21,
   "metadata": {},
   "outputs": [],
   "source": [
    "def make_tip_pos_csv(input_csv, output_csv):\n",
    "    # Check if the output CSV exists and create it with the header if it doesn't\n",
    "    if not os.path.exists(output_csv):\n",
    "        header = ['ID', 'x3', 'y3', 'z3', 'img_filename']\n",
    "        with open(output_csv, 'w', newline='') as file:\n",
    "            writer = csv.writer(file)\n",
    "            writer.writerow(header)\n",
    "\n",
    "    # Read the input CSV\n",
    "    positions_df = pd.read_csv(input_csv)\n",
    "    \n",
    "    # Initialize variables to keep track of the last image filename and the last row to write\n",
    "    last_img_filename = None\n",
    "    last_output_row = None\n",
    "\n",
    "    # Process each row in the input CSV\n",
    "    for index, row in positions_df.iterrows():\n",
    "        cur_img_filename = row['img_filename']\n",
    "        img_name = cur_img_filename.removesuffix(\".jpg\")\n",
    "        output_row = [row['ID'], row['x3'], row['y3'], row['z3'], cur_img_filename]\n",
    "        output_row_augmented = [row['ID'], row['x3'], row['y3'], row['z3'], img_name+'_augmented.jpg']\n",
    "\n",
    "        # If the current image filename is different from the last, write the last output row\n",
    "        if last_img_filename is not None and last_img_filename != cur_img_filename:\n",
    "            with open(output_csv, 'a', newline='') as file:\n",
    "                writer = csv.writer(file)\n",
    "                writer.writerow(last_output_row) #non-augmented image\n",
    "                writer.writerow(last_output_row_augmented)# augmented image\n",
    "\n",
    "        # Update the last image filename and last output row\n",
    "        last_img_filename = cur_img_filename\n",
    "        last_output_row = output_row\n",
    "        last_output_row_augmented = output_row_augmented\n",
    "\n",
    "    # Write the last row (for the final image in the sequence)\n",
    "    if last_output_row is not None:\n",
    "        with open(output_csv, 'a', newline='') as file:\n",
    "            writer = csv.writer(file)\n",
    "            writer.writerow(last_output_row) # non-augmented image\n",
    "            writer.writerow(last_output_row_augmented) # augmented image\n",
    "\n"
   ]
  },
  {
   "cell_type": "code",
   "execution_count": 22,
   "metadata": {},
   "outputs": [],
   "source": [
    "data_dir = 'data/single'\n",
    "input_csv = os.path.join(data_dir, 'single_img_regression.csv')  # replace with your actual CSV filename\n",
    "output_csv = os.path.join(data_dir, 'single_img_regression_single_tip_pos.csv')\n",
    "make_tip_pos_csv(input_csv, output_csv)"
   ]
  },
  {
   "cell_type": "markdown",
   "metadata": {},
   "source": [
    "Plot tip position overlaid on images to verify dataset quality"
   ]
  },
  {
   "cell_type": "code",
   "execution_count": 61,
   "metadata": {},
   "outputs": [],
   "source": [
    "def convert_to_pillow_coords(df, img_width, img_height):\n",
    "    \"\"\"\n",
    "    Convert robot coordinates to Pillow image coordinates.\n",
    "\n",
    "    Parameters:\n",
    "    df (pd.DataFrame): DataFrame containing 'x' and 'z' columns in robot coordinates.\n",
    "    img_width, img_height (int): Dimensions of the Pillow image.\n",
    "\n",
    "    Returns:\n",
    "    pd.DataFrame: DataFrame with 'img_x' and 'img_y' columns for Pillow image coordinates.\n",
    "    \"\"\"\n",
    "    buffer = .01 #m\n",
    "\n",
    "    # Calculate the min and max values for x and z\n",
    "    x_min, x_max = df['x'].min() - buffer, df['x'].max() + buffer\n",
    "    z_min, z_max = df['z'].min() - buffer, df['z'].max() + buffer\n",
    "\n",
    "    # Calculate the scaling factors for x and z coordinates\n",
    "    x_scale = img_width / (x_max - x_min)\n",
    "    z_scale = img_height / (z_max - z_min)\n",
    "\n",
    "    # Calculate the shifts to center the robot's origin within the image\n",
    "    x_shift = (x_max + x_min) / 2\n",
    "    z_shift = (z_max + z_min) / 2\n",
    "\n",
    "    # Convert robot coordinates to Pillow image coordinates\n",
    "    df['img_x'] = (df['x'] - x_shift) * x_scale + img_width / 2\n",
    "    df['img_y'] = (df['z'] - z_shift) * z_scale + img_height / 2\n",
    "\n",
    "    # Invert the y-axis and x-axis to match Pillow's coordinate system (where (0, 0) is top-left)\n",
    "    df['img_y'] = img_height - df['img_y']\n",
    "    df['img_x'] = img_width - df['img_x']\n",
    "\n",
    "    return df[['img_x', 'img_y']]\n",
    "\n"
   ]
  },
  {
   "cell_type": "code",
   "execution_count": 69,
   "metadata": {},
   "outputs": [],
   "source": [
    "import matplotlib.pyplot as plt\n",
    "from PIL import Image\n",
    "\n",
    "def plot_tip_positions_on_images(data_dir):\n",
    "    \"\"\"\n",
    "    Plot tip positions on images based on coordinates from a CSV file.\n",
    "\n",
    "    Parameters:\n",
    "    data_dir (str): Directory containing the CSV file and the images.\n",
    "    \"\"\"\n",
    "\n",
    "    # Load the CSV file\n",
    "    csv_file = os.path.join(data_dir, 'single_img_regression_single_tip_pos.csv')\n",
    "    positions_df = pd.read_csv(csv_file)\n",
    "\n",
    "    # Folder containing images\n",
    "    image_folder = os.path.join(data_dir, 'images')\n",
    "\n",
    "    # Convert entire DataFrame coordinates to Pillow image coordinates once\n",
    "    coords_df = positions_df[['x3', 'z3']].rename(columns={'x3': 'x', 'z3': 'z'})\n",
    "\n",
    "    # Get image dimensions from the first image\n",
    "    sample_image_filename = positions_df['img_filename'].iloc[0]\n",
    "    sample_image_path = os.path.join(image_folder, sample_image_filename)\n",
    "    with Image.open(sample_image_path) as img:\n",
    "        img_width, img_height = img.size\n",
    "\n",
    "    # Convert all coordinates to image coordinates\n",
    "    img_coords_df = convert_to_pillow_coords(coords_df, img_width, img_height)\n",
    "\n",
    "    # Add converted coordinates to the original DataFrame\n",
    "    positions_df['img_x'] = img_coords_df['img_x']\n",
    "    positions_df['img_y'] = img_coords_df['img_y']\n",
    "\n",
    "    # Iterate through each row to plot points on the corresponding images\n",
    "    for index, row in positions_df.iterrows():\n",
    "        image_filename = row['img_filename']\n",
    "        image_path = os.path.join(image_folder, image_filename)\n",
    "\n",
    "        # Open the image\n",
    "        with Image.open(image_path) as img:\n",
    "            img_width, img_height = img.size\n",
    "\n",
    "            # Create a figure with the same dimensions as the image\n",
    "            fig, ax = plt.subplots(figsize=(img_width / 100, img_height / 100), dpi=100)\n",
    "\n",
    "            # Plot the image\n",
    "            ax.imshow(img)\n",
    "\n",
    "            # Plot the tip position for this specific row\n",
    "            ax.scatter([row['img_x']], [row['img_y']], color='blue', s=200)  # s is the size of the point\n",
    "\n",
    "            # Remove axes for a cleaner output\n",
    "            ax.axis('off')\n",
    "\n",
    "            # Save the image with the original dimensions\n",
    "            output_filename = os.path.join(data_dir, f\"verification/output_{image_filename}\")\n",
    "            plt.savefig(output_filename, bbox_inches='tight', pad_inches=0)\n",
    "            plt.close(fig)\n",
    "\n",
    "            print(f\"Plotted tip position on {image_filename} and saved as {output_filename}.\")\n"
   ]
  },
  {
   "cell_type": "code",
   "execution_count": 70,
   "metadata": {},
   "outputs": [
    {
     "name": "stdout",
     "output_type": "stream",
     "text": [
      "Plotted tip position on sample_0.jpg and saved as data/single/verification/output_sample_0.jpg.\n",
      "Plotted tip position on sample_1.jpg and saved as data/single/verification/output_sample_1.jpg.\n",
      "Plotted tip position on sample_2.jpg and saved as data/single/verification/output_sample_2.jpg.\n",
      "Plotted tip position on sample_3.jpg and saved as data/single/verification/output_sample_3.jpg.\n",
      "Plotted tip position on sample_4.jpg and saved as data/single/verification/output_sample_4.jpg.\n",
      "Plotted tip position on sample_5.jpg and saved as data/single/verification/output_sample_5.jpg.\n",
      "Plotted tip position on sample_6.jpg and saved as data/single/verification/output_sample_6.jpg.\n",
      "Plotted tip position on sample_7.jpg and saved as data/single/verification/output_sample_7.jpg.\n",
      "Plotted tip position on sample_8.jpg and saved as data/single/verification/output_sample_8.jpg.\n",
      "Plotted tip position on sample_9.jpg and saved as data/single/verification/output_sample_9.jpg.\n",
      "Plotted tip position on sample_10.jpg and saved as data/single/verification/output_sample_10.jpg.\n",
      "Plotted tip position on sample_11.jpg and saved as data/single/verification/output_sample_11.jpg.\n",
      "Plotted tip position on sample_12.jpg and saved as data/single/verification/output_sample_12.jpg.\n",
      "Plotted tip position on sample_13.jpg and saved as data/single/verification/output_sample_13.jpg.\n",
      "Plotted tip position on sample_14.jpg and saved as data/single/verification/output_sample_14.jpg.\n",
      "Plotted tip position on sample_15.jpg and saved as data/single/verification/output_sample_15.jpg.\n",
      "Plotted tip position on sample_16.jpg and saved as data/single/verification/output_sample_16.jpg.\n",
      "Plotted tip position on sample_17.jpg and saved as data/single/verification/output_sample_17.jpg.\n",
      "Plotted tip position on sample_18.jpg and saved as data/single/verification/output_sample_18.jpg.\n",
      "Plotted tip position on sample_19.jpg and saved as data/single/verification/output_sample_19.jpg.\n",
      "Plotted tip position on sample_20.jpg and saved as data/single/verification/output_sample_20.jpg.\n",
      "Plotted tip position on sample_21.jpg and saved as data/single/verification/output_sample_21.jpg.\n",
      "Plotted tip position on sample_22.jpg and saved as data/single/verification/output_sample_22.jpg.\n",
      "Plotted tip position on sample_23.jpg and saved as data/single/verification/output_sample_23.jpg.\n",
      "Plotted tip position on sample_24.jpg and saved as data/single/verification/output_sample_24.jpg.\n",
      "Plotted tip position on sample_25.jpg and saved as data/single/verification/output_sample_25.jpg.\n",
      "Plotted tip position on sample_26.jpg and saved as data/single/verification/output_sample_26.jpg.\n",
      "Plotted tip position on sample_27.jpg and saved as data/single/verification/output_sample_27.jpg.\n",
      "Plotted tip position on sample_28.jpg and saved as data/single/verification/output_sample_28.jpg.\n",
      "Plotted tip position on sample_29.jpg and saved as data/single/verification/output_sample_29.jpg.\n",
      "Plotted tip position on sample_30.jpg and saved as data/single/verification/output_sample_30.jpg.\n"
     ]
    }
   ],
   "source": [
    "plot_tip_positions_on_images('data/single')"
   ]
  },
  {
   "cell_type": "markdown",
   "metadata": {},
   "source": [
    "Augment images"
   ]
  },
  {
   "cell_type": "code",
   "execution_count": 17,
   "metadata": {},
   "outputs": [],
   "source": [
    "input_dir = 'data/single/raw'\n",
    "output_dir = 'data/single/augmented'\n",
    "importlib.reload(data_aug)\n",
    "\n",
    "for filename in os.listdir(input_dir+\"/images\"):\n",
    "    if filename.lower().endswith(('png', 'jpg', 'jpeg')):\n",
    "        image_path = os.path.join(input_dir+\"/images/\", filename)\n",
    "        data_aug.augment_image(image_path, output_dir)\n",
    "\n",
    "#todo: add augmented image data to csv\n"
   ]
  },
  {
   "cell_type": "code",
   "execution_count": null,
   "metadata": {},
   "outputs": [],
   "source": []
  }
 ],
 "metadata": {
  "kernelspec": {
   "display_name": "trunk",
   "language": "python",
   "name": "python3"
  },
  "language_info": {
   "codemirror_mode": {
    "name": "ipython",
    "version": 3
   },
   "file_extension": ".py",
   "mimetype": "text/x-python",
   "name": "python",
   "nbconvert_exporter": "python",
   "pygments_lexer": "ipython3",
   "version": "3.12.4"
  }
 },
 "nbformat": 4,
 "nbformat_minor": 2
}
